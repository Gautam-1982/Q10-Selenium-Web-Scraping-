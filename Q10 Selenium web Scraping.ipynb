{
 "cells": [
  {
   "cell_type": "code",
   "execution_count": 118,
   "metadata": {},
   "outputs": [],
   "source": [
    "import pandas as pd\n",
    "import selenium\n",
    "from selenium import webdriver\n",
    "from selenium.common.exceptions import NoSuchElementException\n"
   ]
  },
  {
   "cell_type": "code",
   "execution_count": 119,
   "metadata": {},
   "outputs": [],
   "source": [
    "driver=webdriver.Chrome(executable_path=\"D:\\\\chromedriver_win32\\\\chromedriver.exe\")"
   ]
  },
  {
   "cell_type": "code",
   "execution_count": 120,
   "metadata": {},
   "outputs": [],
   "source": [
    "driver.get(\"https://www.amazon.in/\")"
   ]
  },
  {
   "cell_type": "code",
   "execution_count": 121,
   "metadata": {},
   "outputs": [],
   "source": [
    "Title=[]\n",
    "Ratings=[]\n",
    "Price=[]\n",
    "\n"
   ]
  },
  {
   "cell_type": "code",
   "execution_count": 122,
   "metadata": {},
   "outputs": [],
   "source": [
    "search_item=driver.find_element_by_id(\"twotabsearchtextbox\")\n",
    "search_item.clear()\n",
    "search_item.send_keys(\"laptops\")\n",
    "search_button=driver.find_element_by_xpath('//span[@id=\"nav-search-submit-text\"]')\n",
    "search_button.click()"
   ]
  },
  {
   "cell_type": "code",
   "execution_count": 123,
   "metadata": {},
   "outputs": [],
   "source": [
    "filter_button=driver.find_elements_by_xpath(\"//a[@class='a-link-normal s-navigation-item']/span\")\n",
    "for i in filter_button:\n",
    "    if i.text=='Intel Core i7':\n",
    "        i.click()\n",
    "        break\n",
    "    \n",
    "    \n"
   ]
  },
  {
   "cell_type": "code",
   "execution_count": 124,
   "metadata": {},
   "outputs": [],
   "source": [
    "filter_button=driver.find_elements_by_xpath(\"//a[@class='a-link-normal s-navigation-item']/span\")\n",
    "for i in filter_button:\n",
    "    if i.text=='Intel Core i9':\n",
    "        i.click()\n",
    "        break"
   ]
  },
  {
   "cell_type": "code",
   "execution_count": 125,
   "metadata": {},
   "outputs": [],
   "source": [
    "titles=driver.find_elements_by_xpath(\"//span[@class='a-size-medium a-color-base a-text-normal']\")\n",
    "for i in titles[:10]:\n",
    "    Title.append(i.text)\n"
   ]
  },
  {
   "cell_type": "code",
   "execution_count": 126,
   "metadata": {},
   "outputs": [],
   "source": [
    "prices=driver.find_elements_by_xpath(\"//span[@class='a-price-whole']\")\n",
    "for i in prices[:10]:\n",
    "    price.append(i.text)"
   ]
  },
  {
   "cell_type": "code",
   "execution_count": 127,
   "metadata": {},
   "outputs": [],
   "source": [
    "urls=driver.find_elements_by_xpath(\"//a[@class='a-link-normal a-text-normal']\")\n",
    "UR=[]\n",
    "for i in urls[:10]:\n",
    "    UR.append(i.get_attribute('href'))\n",
    "for url in UR:\n",
    "    driver.get(url)\n",
    "    try:\n",
    "        rate=driver.find_element_by_xpath(\"//span[@id='acrCustomerReviewText']\")\n",
    "        rate.click()\n",
    "        rating=driver.find_element_by_xpath(\"//span[@class='a-size-medium a-color-base']\")\n",
    "        Ratings.append(rating.text)\n",
    "        \n",
    "    except NoSuchElementException  as e:\n",
    "        Ratings.append(\"No rating\")\n",
    "        \n"
   ]
  },
  {
   "cell_type": "code",
   "execution_count": 128,
   "metadata": {},
   "outputs": [
    {
     "name": "stdout",
     "output_type": "stream",
     "text": [
      "10\n",
      "10\n",
      "10\n"
     ]
    }
   ],
   "source": [
    "print(len(Title))\n",
    "print(len(price))\n",
    "print(len(Ratings))\n"
   ]
  },
  {
   "cell_type": "code",
   "execution_count": 129,
   "metadata": {},
   "outputs": [
    {
     "data": {
      "text/plain": [
       "['(Renewed) HP ZBook 15 G3 Mobile Workstation - 15.6\" - Core i7 (6700HQ) - 8 GB RAM - 2.5TB SSD : BLUETOOTH : 2GB DEDICATED GRAPHIC : NUMERIC KEYBOARD',\n",
       " 'Lenovo Legion 5 10th Gen Intel Core i7 15.6 inch Full HD IPS Gaming Laptop (16GB/1TB HDD + 256GB SSD/Windows 10/120 Hz/NVIDIA GTX 1650 4GB GDDR6 Graphics/Phantom Black/2.3Kg), 82AU00KKIN',\n",
       " 'ASUS VivoBook S S14 Intel Core i7-1165G7 11th Gen, 14-inch FHD Thin and Light Laptop (8GB RAM/512GB SSD + 32GB Optane Memory/Windows 10/Office 2019/Iris X Graphics- Indie Black/1.4 Kg), S433EA-AM701TS',\n",
       " 'DELL Inspiron 5570 15.6-inch FHD Laptop (8th Gen Core i7/8GB/2TB/Windows 10 with Ms Office Home & Student 2016 / 4GB Graphics), Black',\n",
       " '(Renewed) DELL Latitude E6540 15.6-inch Laptop (4th Gen Intel Core i7/8GB/1TB/Windows 10/Integrated Graphics), Silver',\n",
       " '(Renewed) Dell Latitude E7240 12.5-inch Laptop (4th Gen Intel Core i7/8GB/256GB SSD/Windows 10/Integrated Graphics), Black',\n",
       " 'DELL Inspiron 5593 15.6-inch Laptop (10th Gen Core i7-1065G7/8GB/1TB HDD + 512GB SSD/Windows 10 Home Plus/4GB NVIDIA MX230 GDDR5 Graphics), Platinum Silver',\n",
       " 'Lenovo IdeaPad Gaming 3 10th Gen Intel Core i7 15.6-inch FHD IPS Gaming Laptop (8GB/1TB HDD + 256 GB SSD/Windows 10/NVIDIA GTX 1650 4GB GDDR6/with M100 RGB Gaming Mouse/Onyx Black/2.2Kg), 81Y400VAIN',\n",
       " 'Dell G3 3500 Gaming 15.6inch 120hz FHD Display Laptop (10th Gen i7-10750H / 8 GB / 512 SSD / GTX 1650 4GB / 1Yr Premium Warranty/ Win 10 + MS Office H&S 2019) D560250WIN9BE',\n",
       " 'Lenovo Legion Y530 Intel Core I7 8th Gen 15.6 - inch Gaming FHD Laptop (8GB/ 1TB HDD +128GB SSD/ Windows 10 Home/ 4GB Graphics/ Black), 81FV00KNIN']"
      ]
     },
     "execution_count": 129,
     "metadata": {},
     "output_type": "execute_result"
    }
   ],
   "source": [
    "Title[:10]"
   ]
  },
  {
   "cell_type": "code",
   "execution_count": 130,
   "metadata": {},
   "outputs": [
    {
     "data": {
      "text/plain": [
       "['83,990',\n",
       " '77,990',\n",
       " '68,490',\n",
       " '38,999',\n",
       " '37,999',\n",
       " '88,999',\n",
       " '76,990',\n",
       " '82,490',\n",
       " '89,990',\n",
       " '99,990']"
      ]
     },
     "execution_count": 130,
     "metadata": {},
     "output_type": "execute_result"
    }
   ],
   "source": [
    "price[:10]"
   ]
  },
  {
   "cell_type": "code",
   "execution_count": 131,
   "metadata": {},
   "outputs": [
    {
     "data": {
      "text/plain": [
       "['No rating',\n",
       " '4.3 out of 5',\n",
       " '4.3 out of 5',\n",
       " '3.4 out of 5',\n",
       " 'No rating',\n",
       " '3.7 out of 5',\n",
       " '3.8 out of 5',\n",
       " '4.4 out of 5',\n",
       " '4 out of 5',\n",
       " '3.9 out of 5']"
      ]
     },
     "execution_count": 131,
     "metadata": {},
     "output_type": "execute_result"
    }
   ],
   "source": [
    "Ratings[:10]"
   ]
  },
  {
   "cell_type": "code",
   "execution_count": 133,
   "metadata": {},
   "outputs": [],
   "source": [
    "df=pd.DataFrame({'Title':Title,\n",
    "                'Price':price,\n",
    "                'Ratings':Ratings})"
   ]
  },
  {
   "cell_type": "code",
   "execution_count": 134,
   "metadata": {},
   "outputs": [
    {
     "name": "stdout",
     "output_type": "stream",
     "text": [
      "                                               Title   Price       Ratings\n",
      "0  (Renewed) HP ZBook 15 G3 Mobile Workstation - ...  83,990     No rating\n",
      "1  Lenovo Legion 5 10th Gen Intel Core i7 15.6 in...  77,990  4.3 out of 5\n",
      "2  ASUS VivoBook S S14 Intel Core i7-1165G7 11th ...  68,490  4.3 out of 5\n",
      "3  DELL Inspiron 5570 15.6-inch FHD Laptop (8th G...  38,999  3.4 out of 5\n",
      "4  (Renewed) DELL Latitude E6540 15.6-inch Laptop...  37,999     No rating\n",
      "5  (Renewed) Dell Latitude E7240 12.5-inch Laptop...  88,999  3.7 out of 5\n",
      "6  DELL Inspiron 5593 15.6-inch Laptop (10th Gen ...  76,990  3.8 out of 5\n",
      "7  Lenovo IdeaPad Gaming 3 10th Gen Intel Core i7...  82,490  4.4 out of 5\n",
      "8  Dell G3 3500 Gaming 15.6inch 120hz FHD Display...  89,990    4 out of 5\n",
      "9  Lenovo Legion Y530 Intel Core I7 8th Gen 15.6 ...  99,990  3.9 out of 5\n"
     ]
    }
   ],
   "source": [
    "print(df)"
   ]
  },
  {
   "cell_type": "code",
   "execution_count": 135,
   "metadata": {},
   "outputs": [],
   "source": [
    "import pickle\n",
    "filename= 'Selenium Assignment Q10.pkl'\n",
    "pickle.dump(df,open(filename,'wb'))"
   ]
  },
  {
   "cell_type": "code",
   "execution_count": null,
   "metadata": {},
   "outputs": [],
   "source": []
  },
  {
   "cell_type": "code",
   "execution_count": null,
   "metadata": {},
   "outputs": [],
   "source": []
  },
  {
   "cell_type": "code",
   "execution_count": null,
   "metadata": {},
   "outputs": [],
   "source": []
  },
  {
   "cell_type": "code",
   "execution_count": null,
   "metadata": {},
   "outputs": [],
   "source": []
  },
  {
   "cell_type": "code",
   "execution_count": null,
   "metadata": {},
   "outputs": [],
   "source": []
  },
  {
   "cell_type": "code",
   "execution_count": null,
   "metadata": {},
   "outputs": [],
   "source": []
  },
  {
   "cell_type": "code",
   "execution_count": null,
   "metadata": {},
   "outputs": [],
   "source": []
  },
  {
   "cell_type": "code",
   "execution_count": null,
   "metadata": {},
   "outputs": [],
   "source": []
  },
  {
   "cell_type": "code",
   "execution_count": null,
   "metadata": {},
   "outputs": [],
   "source": []
  },
  {
   "cell_type": "code",
   "execution_count": null,
   "metadata": {},
   "outputs": [],
   "source": []
  },
  {
   "cell_type": "code",
   "execution_count": null,
   "metadata": {},
   "outputs": [],
   "source": []
  },
  {
   "cell_type": "code",
   "execution_count": null,
   "metadata": {},
   "outputs": [],
   "source": []
  },
  {
   "cell_type": "code",
   "execution_count": null,
   "metadata": {},
   "outputs": [],
   "source": []
  },
  {
   "cell_type": "code",
   "execution_count": null,
   "metadata": {},
   "outputs": [],
   "source": []
  },
  {
   "cell_type": "code",
   "execution_count": null,
   "metadata": {},
   "outputs": [],
   "source": []
  },
  {
   "cell_type": "code",
   "execution_count": null,
   "metadata": {},
   "outputs": [],
   "source": []
  }
 ],
 "metadata": {
  "kernelspec": {
   "display_name": "Python 3",
   "language": "python",
   "name": "python3"
  },
  "language_info": {
   "codemirror_mode": {
    "name": "ipython",
    "version": 3
   },
   "file_extension": ".py",
   "mimetype": "text/x-python",
   "name": "python",
   "nbconvert_exporter": "python",
   "pygments_lexer": "ipython3",
   "version": "3.8.3"
  }
 },
 "nbformat": 4,
 "nbformat_minor": 4
}
